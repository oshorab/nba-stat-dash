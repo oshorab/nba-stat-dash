{
 "cells": [
  {
   "cell_type": "code",
   "execution_count": 1,
   "id": "3295457f",
   "metadata": {},
   "outputs": [],
   "source": [
    "import pandas as pd"
   ]
  },
  {
   "cell_type": "code",
   "execution_count": 6,
   "id": "14dd8161",
   "metadata": {},
   "outputs": [],
   "source": [
    "df = pd.read_csv('kobe_%FGA.csv')"
   ]
  },
  {
   "cell_type": "code",
   "execution_count": 7,
   "id": "f747979c",
   "metadata": {},
   "outputs": [
    {
     "data": {
      "text/html": [
       "<div>\n",
       "<style scoped>\n",
       "    .dataframe tbody tr th:only-of-type {\n",
       "        vertical-align: middle;\n",
       "    }\n",
       "\n",
       "    .dataframe tbody tr th {\n",
       "        vertical-align: top;\n",
       "    }\n",
       "\n",
       "    .dataframe thead th {\n",
       "        text-align: right;\n",
       "    }\n",
       "</style>\n",
       "<table border=\"1\" class=\"dataframe\">\n",
       "  <thead>\n",
       "    <tr style=\"text-align: right;\">\n",
       "      <th></th>\n",
       "      <th>G</th>\n",
       "      <th>MP</th>\n",
       "      <th>FG%</th>\n",
       "      <th>Dist.</th>\n",
       "      <th>2P</th>\n",
       "      <th>0-3</th>\n",
       "      <th>3-10</th>\n",
       "      <th>10-16</th>\n",
       "      <th>16-3P</th>\n",
       "      <th>3P</th>\n",
       "    </tr>\n",
       "  </thead>\n",
       "  <tbody>\n",
       "    <tr>\n",
       "      <th>0</th>\n",
       "      <td>1346</td>\n",
       "      <td>48637</td>\n",
       "      <td>0.447</td>\n",
       "      <td>14.1</td>\n",
       "      <td>0.788</td>\n",
       "      <td>0.219</td>\n",
       "      <td>0.126</td>\n",
       "      <td>0.172</td>\n",
       "      <td>0.271</td>\n",
       "      <td>0.212</td>\n",
       "    </tr>\n",
       "  </tbody>\n",
       "</table>\n",
       "</div>"
      ],
      "text/plain": [
       "      G     MP    FG%  Dist.     2P    0-3   3-10  10-16  16-3P     3P\n",
       "0  1346  48637  0.447   14.1  0.788  0.219  0.126  0.172  0.271  0.212"
      ]
     },
     "execution_count": 7,
     "metadata": {},
     "output_type": "execute_result"
    }
   ],
   "source": [
    "df"
   ]
  },
  {
   "cell_type": "code",
   "execution_count": 15,
   "id": "ff25e7fb",
   "metadata": {},
   "outputs": [
    {
     "data": {
      "text/plain": [
       "['2P', '0-3', '3-10', '10-16', '16-3P', '3P']"
      ]
     },
     "execution_count": 15,
     "metadata": {},
     "output_type": "execute_result"
    }
   ],
   "source": [
    "df.columns.values.tolist()[4:]"
   ]
  },
  {
   "cell_type": "code",
   "execution_count": 14,
   "id": "8899c208",
   "metadata": {},
   "outputs": [
    {
     "data": {
      "text/plain": [
       "[0.788, 0.219, 0.126, 0.172, 0.271, 0.212]"
      ]
     },
     "execution_count": 14,
     "metadata": {},
     "output_type": "execute_result"
    }
   ],
   "source": [
    "df.values.tolist()[0][4:]"
   ]
  },
  {
   "cell_type": "code",
   "execution_count": null,
   "id": "551ca8a5",
   "metadata": {},
   "outputs": [],
   "source": []
  }
 ],
 "metadata": {
  "kernelspec": {
   "display_name": "Python 3",
   "language": "python",
   "name": "python3"
  },
  "language_info": {
   "codemirror_mode": {
    "name": "ipython",
    "version": 3
   },
   "file_extension": ".py",
   "mimetype": "text/x-python",
   "name": "python",
   "nbconvert_exporter": "python",
   "pygments_lexer": "ipython3",
   "version": "3.7.4"
  }
 },
 "nbformat": 4,
 "nbformat_minor": 5
}
